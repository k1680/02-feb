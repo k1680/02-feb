{
 "cells": [
  {
   "cell_type": "code",
   "execution_count": 1,
   "id": "14e3795d-6d89-4916-bd79-667de66caabb",
   "metadata": {},
   "outputs": [
    {
     "name": "stdin",
     "output_type": "stream",
     "text": [
      "Enter a number:  5\n"
     ]
    },
    {
     "name": "stdout",
     "output_type": "stream",
     "text": [
      "1 2 3 4 5 "
     ]
    },
    {
     "name": "stdin",
     "output_type": "stream",
     "text": [
      "Enter a number:  6\n"
     ]
    },
    {
     "name": "stdout",
     "output_type": "stream",
     "text": [
      "6 7 8 9 10 11 12 13 14 15 "
     ]
    }
   ],
   "source": [
    "\"\"\"Q1. Explain with an example each when to use a for loop and a while loop.\n",
    "  for loop\n",
    "  Ans: We use for loop when we know the range of iteration, when we how many time we need to iterate the loop\n",
    "\n",
    "  Example\n",
    "  This example prompt a input and it will print staring from 1 till the input(n)\"\"\"\n",
    "n = int(input(\"Enter a number: \"))\n",
    "\n",
    "for i in range(n):\n",
    "    print(i+1,end = \" \")\n",
    "    \n",
    "\"\"\" While loop\n",
    " Ans: We use while loop when we don't know the range of iteration.\n",
    " Example:\n",
    " In this example we prompt user for an input and it will all the numbers from inputed number till 15\"\"\"\n",
    "n = int(input(\"Enter a number: \"))\n",
    "if n<15:\n",
    "    while n <= 15:\n",
    "        print(n, end = \" \")\n",
    "        n += 1\n",
    "else:\n",
    "    print(\"Enter a number less than 15\")\n"
   ]
  },
  {
   "cell_type": "code",
   "execution_count": 2,
   "id": "3d318793-01df-4a62-942b-b66993debedb",
   "metadata": {},
   "outputs": [
    {
     "name": "stdout",
     "output_type": "stream",
     "text": [
      "For Loop: \n",
      "Sum:  55\n",
      "Product:  3628800\n",
      "\n",
      "While Loop: \n",
      "Sum: 55\n",
      "Product: 3628800\n"
     ]
    }
   ],
   "source": [
    "\"\"\"Q2. Write a python program to print the sum and product of the first 10 natural numbers using for and while loop.\n",
    "  Ans:\"\"\"\n",
    "# for loop:\n",
    "\n",
    "sums = 0\n",
    "products = 1\n",
    "\n",
    "for i in range(1,11):\n",
    "    sums += i\n",
    "    products *= i\n",
    "    \n",
    "print(\"For Loop: \")\n",
    "print('Sum: ', sums)\n",
    "print(\"Product: \",products)\n",
    "print()\n",
    "\n",
    "\n",
    "# While loop\n",
    "\n",
    "sums = 0\n",
    "products = 1\n",
    "n = 1\n",
    "while n<11:\n",
    "    sums += n\n",
    "    products *= n\n",
    "    n += 1\n",
    "    \n",
    "print(\"While Loop: \")\n",
    "print(\"Sum:\", sums)\n",
    "print(\"Product:\",products)"
   ]
  },
  {
   "cell_type": "code",
   "execution_count": 4,
   "id": "33de34dd-71b5-4390-9093-d1c057180cc8",
   "metadata": {},
   "outputs": [
    {
     "name": "stdin",
     "output_type": "stream",
     "text": [
      "Enter the units:  150\n"
     ]
    },
    {
     "name": "stdout",
     "output_type": "stream",
     "text": [
      "Total elctrical bill:  750\n"
     ]
    }
   ],
   "source": [
    "\"\"\"Q3. Create a python program to compute the electricity bill for a household.\n",
    "The per-unit charges in rupees are as follows: For the first 100 units, the user will be charged Rs. 4.5 per\n",
    "unit, for the next 100 units, the user will be charged Rs. 6 per unit, and for the next 100 units, the user will\n",
    "be charged Rs. 10 per unit, After 300 units and above the user will be charged Rs. 20 per unit.\n",
    "You are required to take the units of electricity consumed in a month from the user as input.\n",
    "Your program must pass this test case: when the unit of electricity consumed by the user in a month is\n",
    "310, the total electricity bill should be 2250.\n",
    "\n",
    "  Ans: \"\"\"\n",
    "\n",
    "units = int(input(\"Enter the units: \"))\n",
    "amount = 0\n",
    "\n",
    "if units<=100:\n",
    "    amount = 4.5 * 100\n",
    "elif units <= 200:\n",
    "    amount = 450 + (6 * (units - 100))\n",
    "elif units <= 300:\n",
    "    amount = 1050 + (10 * (units - 200))\n",
    "elif units > 300:\n",
    "    amount = 2050 + (20 * (units - 300))\n",
    "    \n",
    "print(\"Total elctrical bill: \",amount)"
   ]
  },
  {
   "cell_type": "code",
   "execution_count": 5,
   "id": "bb7fcaed-3070-4a57-8b81-976b9247e464",
   "metadata": {},
   "outputs": [
    {
     "name": "stdout",
     "output_type": "stream",
     "text": [
      "[2, 4, 5, 6, 8, 10, 12, 14, 15, 16, 18, 20, 22, 24, 25, 26, 28, 30, 32, 34, 35, 36, 38, 40, 42, 44, 45, 46, 48, 50, 52, 54, 55, 56, 58, 60, 62, 64, 65, 66, 68, 70, 72, 74, 75, 76, 78, 80, 82, 84, 85, 86, 88, 90, 92, 94, 95, 96, 98, 100]\n"
     ]
    }
   ],
   "source": [
    "\"\"\"Q4. Create a list of numbers from 1 to 100. Use for loop and while loop to calculate the cube of each number and if the cube of that number\n",
    "is divisible by 4 or 5 then append that number in a list and print that list.\"\"\"\n",
    "\n",
    "# Ans:\n",
    "\n",
    "list1 = range(1,101)\n",
    "list2 = []\n",
    "\n",
    "for i in list1:\n",
    "    cube = i ** 3\n",
    "    if cube%4 == 0 or cube%5 == 0:\n",
    "        list2.append(i)\n",
    "        \n",
    "print(list2)\n"
   ]
  },
  {
   "cell_type": "code",
   "execution_count": 6,
   "id": "ac3413ca-07ec-4caf-af69-78945b3ceb73",
   "metadata": {},
   "outputs": [
    {
     "name": "stdin",
     "output_type": "stream",
     "text": [
      "Enter a Sentence:  I want to become a data scientist\n"
     ]
    },
    {
     "name": "stdout",
     "output_type": "stream",
     "text": [
      "Total Number of Vowels in Sentence is  12\n"
     ]
    }
   ],
   "source": [
    "\"\"\"Q5. Write a program to filter count vowels in the below-given string.\n",
    "string = 'I want to become a data scientist'\"\"\"\n",
    "# Ans:\n",
    "\n",
    "vowels = ['a','e','i','o','u','A', 'E','I','O','U']\n",
    "string = input(\"Enter a Sentence: \")\n",
    "count = 0\n",
    "for i in string:\n",
    "    if i in vowels:\n",
    "        count += 1\n",
    "        \n",
    "print(\"Total Number of Vowels in Sentence is \",count)"
   ]
  },
  {
   "cell_type": "code",
   "execution_count": null,
   "id": "4c6ac7c6-46e0-4299-94be-6fb5c292142a",
   "metadata": {},
   "outputs": [],
   "source": []
  }
 ],
 "metadata": {
  "kernelspec": {
   "display_name": "Python 3 (ipykernel)",
   "language": "python",
   "name": "python3"
  },
  "language_info": {
   "codemirror_mode": {
    "name": "ipython",
    "version": 3
   },
   "file_extension": ".py",
   "mimetype": "text/x-python",
   "name": "python",
   "nbconvert_exporter": "python",
   "pygments_lexer": "ipython3",
   "version": "3.10.8"
  }
 },
 "nbformat": 4,
 "nbformat_minor": 5
}
